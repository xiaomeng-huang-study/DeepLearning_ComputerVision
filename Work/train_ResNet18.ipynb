{
 "cells": [
  {
   "cell_type": "code",
   "execution_count": 1,
   "metadata": {
    "execution": {
     "iopub.execute_input": "2024-12-25T21:52:41.065843Z",
     "iopub.status.busy": "2024-12-25T21:52:41.065446Z",
     "iopub.status.idle": "2024-12-25T21:52:41.410324Z",
     "shell.execute_reply": "2024-12-25T21:52:41.409398Z",
     "shell.execute_reply.started": "2024-12-25T21:52:41.065816Z"
    },
    "trusted": true
   },
   "outputs": [],
   "source": [
    "import os\n",
    "\n",
    "ON_Kaggle = False\n",
    "\n",
    "RESUME = True\n",
    "\n",
    "if ON_Kaggle:\n",
    "    PATH = \"dataset-dlacv-project\"\n",
    "    full_path = os.path.join(\"/kaggle/input\", PATH)\n",
    "    %cd $full_path\n",
    "    !pwd\n",
    "    \n",
    "    # For saving models\n",
    "    %mkdir -p /kaggle/working/models\n",
    "    MODEL_SAVE_PATH = '/kaggle/working/models/best_model.pth'\n",
    "    # For saving logs\n",
    "    %mkdir -p /kaggle/working/logs\n",
    "    TB_SAVE_PATH = \"/kaggle/working/logs/\"\n",
    "else:\n",
    "    MODEL_SAVE_PATH = './models/best_model.pth'\n",
    "    TB_SAVE_PATH = \"./logs/\""
   ]
  },
  {
   "cell_type": "markdown",
   "metadata": {},
   "source": [
    "# Import relevant libraries for the project"
   ]
  },
  {
   "cell_type": "code",
   "execution_count": 2,
   "metadata": {
    "execution": {
     "iopub.execute_input": "2024-12-25T21:52:41.411702Z",
     "iopub.status.busy": "2024-12-25T21:52:41.411484Z",
     "iopub.status.idle": "2024-12-25T21:52:53.795692Z",
     "shell.execute_reply": "2024-12-25T21:52:53.794774Z",
     "shell.execute_reply.started": "2024-12-25T21:52:41.411679Z"
    },
    "trusted": true
   },
   "outputs": [],
   "source": [
    "import pandas as pd\n",
    "import numpy as np\n",
    "import seaborn as sns\n",
    "import matplotlib.pyplot as plt\n",
    "plt.style.use('ggplot')\n",
    "\n",
    "import torch\n",
    "import torch.nn as nn\n",
    "import torch.nn.functional as F\n",
    "\n",
    "from torch.utils.data import DataLoader\n",
    "import torch.optim as optim\n",
    "from torch.optim.lr_scheduler import ReduceLROnPlateau\n",
    "\n",
    "from torchvision.datasets import ImageFolder\n",
    "from torchvision.transforms import v2, ToTensor, Normalize\n",
    "from torchvision.models import resnet18, ResNet18_Weights\n",
    "from torchvision.transforms import Grayscale\n",
    "\n",
    "from utils.torch_utils import train"
   ]
  },
  {
   "cell_type": "markdown",
   "metadata": {},
   "source": [
    "# Preparation"
   ]
  },
  {
   "cell_type": "code",
   "execution_count": 3,
   "metadata": {
    "execution": {
     "iopub.execute_input": "2024-12-25T21:52:53.797645Z",
     "iopub.status.busy": "2024-12-25T21:52:53.797055Z",
     "iopub.status.idle": "2024-12-25T21:52:53.801455Z",
     "shell.execute_reply": "2024-12-25T21:52:53.800596Z",
     "shell.execute_reply.started": "2024-12-25T21:52:53.797612Z"
    },
    "trusted": true
   },
   "outputs": [],
   "source": [
    "BATCH_SIZE = 8\n",
    "EPOCHS = 1\n",
    "NUM_WORKERS = 0  # dont change this inside of the jupyter notebook (it will crash)\n",
    "SEED = 42\n",
    "\n",
    "# Classes of images in test dataset\n",
    "CLASSES = ['ok', 'defective']\n",
    "N_CLASSES = len(CLASSES)"
   ]
  },
  {
   "cell_type": "code",
   "execution_count": 4,
   "metadata": {
    "execution": {
     "iopub.execute_input": "2024-12-25T21:52:53.802777Z",
     "iopub.status.busy": "2024-12-25T21:52:53.802481Z",
     "iopub.status.idle": "2024-12-25T21:52:53.818188Z",
     "shell.execute_reply": "2024-12-25T21:52:53.817446Z",
     "shell.execute_reply.started": "2024-12-25T21:52:53.802743Z"
    },
    "trusted": true
   },
   "outputs": [],
   "source": [
    "dir_data = './data/'\n",
    "dir_data_train = dir_data + 'train/'\n",
    "dir_data_val = dir_data + 'val/'\n",
    "dir_data_test = dir_data + 'test/'"
   ]
  },
  {
   "cell_type": "code",
   "execution_count": 5,
   "metadata": {
    "execution": {
     "iopub.execute_input": "2024-12-25T21:52:53.819155Z",
     "iopub.status.busy": "2024-12-25T21:52:53.818961Z",
     "iopub.status.idle": "2024-12-25T21:52:53.833395Z",
     "shell.execute_reply": "2024-12-25T21:52:53.832715Z",
     "shell.execute_reply.started": "2024-12-25T21:52:53.819137Z"
    },
    "trusted": true
   },
   "outputs": [],
   "source": [
    "# Image size for ResNet18\n",
    "img_size = (224, 224)"
   ]
  },
  {
   "cell_type": "code",
   "execution_count": 6,
   "metadata": {
    "execution": {
     "iopub.execute_input": "2024-12-25T21:52:53.834295Z",
     "iopub.status.busy": "2024-12-25T21:52:53.834062Z",
     "iopub.status.idle": "2024-12-25T21:52:53.855145Z",
     "shell.execute_reply": "2024-12-25T21:52:53.854100Z",
     "shell.execute_reply.started": "2024-12-25T21:52:53.834275Z"
    },
    "trusted": true
   },
   "outputs": [],
   "source": [
    "# Set seed\n",
    "torch.manual_seed(SEED)\n",
    "np.random.seed(SEED)\n",
    "torch.cuda.manual_seed_all(SEED)"
   ]
  },
  {
   "cell_type": "code",
   "execution_count": null,
   "metadata": {
    "execution": {
     "iopub.execute_input": "2024-12-25T21:52:53.856384Z",
     "iopub.status.busy": "2024-12-25T21:52:53.856087Z",
     "iopub.status.idle": "2024-12-25T21:52:53.906961Z",
     "shell.execute_reply": "2024-12-25T21:52:53.906037Z",
     "shell.execute_reply.started": "2024-12-25T21:52:53.856355Z"
    },
    "trusted": true
   },
   "outputs": [],
   "source": [
    "# Check if GPU is available\n",
    "device = torch.device(\"cuda\" if torch.cuda.is_available() else \"cpu\")\n",
    "print(\"active device:\", device)"
   ]
  },
  {
   "cell_type": "code",
   "execution_count": 8,
   "metadata": {
    "execution": {
     "iopub.execute_input": "2024-12-25T21:52:53.909482Z",
     "iopub.status.busy": "2024-12-25T21:52:53.909257Z",
     "iopub.status.idle": "2024-12-25T21:52:53.949268Z",
     "shell.execute_reply": "2024-12-25T21:52:53.948654Z",
     "shell.execute_reply.started": "2024-12-25T21:52:53.909463Z"
    },
    "trusted": true
   },
   "outputs": [],
   "source": [
    "# Define Transforms\n",
    "transform = v2.Compose([\n",
    "    ToTensor(),\n",
    "    v2.Resize(img_size, interpolation=v2.InterpolationMode.NEAREST),\n",
    "    Grayscale(num_output_channels= 1),\n",
    "    Normalize([0.5], [0.5]),\n",
    "])\n",
    "\n",
    "transform_and_augment = v2.Compose([\n",
    "    ToTensor(),\n",
    "    v2.Resize(img_size, interpolation=v2.InterpolationMode.NEAREST),\n",
    "    Grayscale(num_output_channels= 1),\n",
    "    Normalize([0.5], [0.5]),\n",
    "    v2.RandomAffine(degrees=15, translate=(0.1, 0.1), fill = 1),  # randomly shift images horizontally/ vertically (fraction of total width/ height)\n",
    "    v2.RandomHorizontalFlip(),\n",
    "    v2.RandomVerticalFlip(),\n",
    "    v2.RandomRotation(degrees=30, fill=1),\n",
    "    v2.RandomResizedCrop(size=img_size, scale=(0.8, 1.0), ratio=(0.75, 1.33)),\n",
    "    v2.RandomErasing(p=0.5, scale=(0.02, 0.25), ratio=(0.3, 3.3), value=\"random\"),\n",
    "    v2.GaussianBlur(kernel_size=(5, 5), sigma=(0.1, 2.0)),\n",
    "])\n",
    "\n",
    "def target_transform(x):\n",
    "    return F.one_hot(torch.LongTensor([x]), N_CLASSES)[0].float()"
   ]
  },
  {
   "cell_type": "code",
   "execution_count": 9,
   "metadata": {
    "execution": {
     "iopub.execute_input": "2024-12-25T21:52:53.950345Z",
     "iopub.status.busy": "2024-12-25T21:52:53.950106Z",
     "iopub.status.idle": "2024-12-25T21:52:59.453484Z",
     "shell.execute_reply": "2024-12-25T21:52:59.452472Z",
     "shell.execute_reply.started": "2024-12-25T21:52:53.950326Z"
    },
    "trusted": true
   },
   "outputs": [],
   "source": [
    "# Load train data\n",
    "train_dataset = ImageFolder(root = dir_data_train, transform= transform_and_augment, target_transform= target_transform)\n",
    "train_loader = DataLoader(train_dataset, batch_size= BATCH_SIZE, shuffle= True, num_workers= NUM_WORKERS)\n",
    "\n",
    "# Load validation data\n",
    "val_dataset = ImageFolder(root = dir_data_val, transform= transform, target_transform= target_transform)\n",
    "val_loader = DataLoader(val_dataset, batch_size= BATCH_SIZE, shuffle= True, num_workers= NUM_WORKERS)\n",
    "\n",
    "# Load test data\n",
    "test_dataset = ImageFolder(root = dir_data_test, transform= transform, target_transform= target_transform)\n",
    "test_loader = DataLoader(test_dataset, batch_size= 1, shuffle= False, num_workers= NUM_WORKERS)"
   ]
  },
  {
   "cell_type": "code",
   "execution_count": 10,
   "metadata": {
    "execution": {
     "iopub.execute_input": "2024-12-25T21:52:59.454791Z",
     "iopub.status.busy": "2024-12-25T21:52:59.454518Z",
     "iopub.status.idle": "2024-12-25T21:52:59.460430Z",
     "shell.execute_reply": "2024-12-25T21:52:59.459369Z",
     "shell.execute_reply.started": "2024-12-25T21:52:59.454768Z"
    },
    "trusted": true
   },
   "outputs": [],
   "source": [
    "# Define the model\n",
    "class CustomResNet(nn.Module):\n",
    "    def __init__(self, num_classes= 2, input_channels= 1):\n",
    "        super(CustomResNet, self).__init__()\n",
    "        \n",
    "        # load the pre-trained ResNet18 model\n",
    "        self.base_model = resnet18(weights= ResNet18_Weights.DEFAULT)\n",
    "        \n",
    "        # change the input channels of the model\n",
    "        self.base_model.conv1 = nn.Conv2d(\n",
    "            input_channels, 64, kernel_size=7, stride=2, padding=3, bias=False\n",
    "        )\n",
    "        \n",
    "        # # Freeze all layers except the last one\n",
    "        # for param in self.base_model.parameters():\n",
    "        #     param.requires_grad = False\n",
    "        \n",
    "        # change the output layer of the model\n",
    "        self.base_model.fc = nn.Linear(self.base_model.fc.in_features, num_classes)\n",
    "    \n",
    "    def forward(self, x):\n",
    "        return self.base_model(x)"
   ]
  },
  {
   "cell_type": "code",
   "execution_count": null,
   "metadata": {
    "execution": {
     "iopub.execute_input": "2024-12-25T21:52:59.461472Z",
     "iopub.status.busy": "2024-12-25T21:52:59.461240Z",
     "iopub.status.idle": "2024-12-25T21:53:00.575359Z",
     "shell.execute_reply": "2024-12-25T21:53:00.574610Z",
     "shell.execute_reply.started": "2024-12-25T21:52:59.461451Z"
    },
    "trusted": true
   },
   "outputs": [],
   "source": [
    "model = CustomResNet(num_classes= N_CLASSES, input_channels= 1)\n",
    "\n",
    "# Check which parameters are trainable\n",
    "for name, param in model.base_model.named_parameters():\n",
    "    print(f\"{name} requires_grad={param.requires_grad}\")\n",
    "\n",
    "optimizer = optim.Adam(filter(lambda p: p.requires_grad, model.parameters()), lr=0.001)\n",
    "\n",
    "if RESUME:\n",
    "    model = torch.load(MODEL_SAVE_PATH, weights_only= False, map_location= device)\n",
    "\n",
    "model = model.to(device)\n",
    "print(model)"
   ]
  },
  {
   "cell_type": "markdown",
   "metadata": {},
   "source": [
    "# Train"
   ]
  },
  {
   "cell_type": "code",
   "execution_count": 12,
   "metadata": {
    "execution": {
     "iopub.execute_input": "2024-12-25T21:53:00.576329Z",
     "iopub.status.busy": "2024-12-25T21:53:00.576082Z",
     "iopub.status.idle": "2024-12-25T21:53:00.580424Z",
     "shell.execute_reply": "2024-12-25T21:53:00.579404Z",
     "shell.execute_reply.started": "2024-12-25T21:53:00.576308Z"
    },
    "trusted": true
   },
   "outputs": [],
   "source": [
    "criterion = nn.CrossEntropyLoss()\n",
    "scheduler = ReduceLROnPlateau(optimizer, \n",
    "                              'min', \n",
    "                              factor=0.1, \n",
    "                              patience=6, \n",
    "                              eps=5*1e-3, \n",
    "                              min_lr=5*1e-9)"
   ]
  },
  {
   "cell_type": "code",
   "execution_count": null,
   "metadata": {
    "execution": {
     "iopub.execute_input": "2024-12-25T21:53:00.581427Z",
     "iopub.status.busy": "2024-12-25T21:53:00.581160Z",
     "iopub.status.idle": "2024-12-25T22:55:20.527446Z",
     "shell.execute_reply": "2024-12-25T22:55:20.526600Z",
     "shell.execute_reply.started": "2024-12-25T21:53:00.581407Z"
    },
    "trusted": true
   },
   "outputs": [],
   "source": [
    "history = train(model= model, \n",
    "                epochs= EPOCHS, \n",
    "                optimizer= optimizer, \n",
    "                criterion= criterion, \n",
    "                train_loader= train_loader, \n",
    "                val_loader= val_loader, \n",
    "                device= device, \n",
    "                scheduler= scheduler, \n",
    "                save_best_path= MODEL_SAVE_PATH,\n",
    "                tb_log_dir= TB_SAVE_PATH,\n",
    "                start_epoch= 100) "
   ]
  }
 ],
 "metadata": {
  "kaggle": {
   "accelerator": "gpu",
   "dataSources": [
    {
     "datasetId": 6374014,
     "sourceId": 10298060,
     "sourceType": "datasetVersion"
    }
   ],
   "dockerImageVersionId": 30822,
   "isGpuEnabled": true,
   "isInternetEnabled": true,
   "language": "python",
   "sourceType": "notebook"
  },
  "kernelspec": {
   "display_name": "venv_dlacv_projekt",
   "language": "python",
   "name": "python3"
  },
  "language_info": {
   "codemirror_mode": {
    "name": "ipython",
    "version": 3
   },
   "file_extension": ".py",
   "mimetype": "text/x-python",
   "name": "python",
   "nbconvert_exporter": "python",
   "pygments_lexer": "ipython3",
   "version": "3.10.16"
  }
 },
 "nbformat": 4,
 "nbformat_minor": 4
}
