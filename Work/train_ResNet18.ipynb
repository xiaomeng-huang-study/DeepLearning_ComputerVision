{
 "cells": [
  {
   "cell_type": "code",
   "execution_count": null,
   "metadata": {
    "execution": {
     "iopub.execute_input": "2025-01-08T07:58:24.671490Z",
     "iopub.status.busy": "2025-01-08T07:58:24.671105Z",
     "iopub.status.idle": "2025-01-08T07:58:24.675742Z",
     "shell.execute_reply": "2025-01-08T07:58:24.674813Z",
     "shell.execute_reply.started": "2025-01-08T07:58:24.671388Z"
    },
    "trusted": true
   },
   "outputs": [],
   "source": [
    "import os\n",
    "from pathlib import Path"
   ]
  },
  {
   "cell_type": "code",
   "execution_count": null,
   "metadata": {
    "execution": {
     "iopub.execute_input": "2025-01-08T07:58:24.677612Z",
     "iopub.status.busy": "2025-01-08T07:58:24.677281Z",
     "iopub.status.idle": "2025-01-08T07:58:24.830752Z",
     "shell.execute_reply": "2025-01-08T07:58:24.829719Z",
     "shell.execute_reply.started": "2025-01-08T07:58:24.677546Z"
    },
    "trusted": true
   },
   "outputs": [],
   "source": [
    "Network = \"ResNet18\"\n",
    "\n",
    "ON_Kaggle = False\n",
    "\n",
    "RESUME = False\n",
    "START_EPOCH = 0\n",
    "EPOCHS = 200\n",
    "\n",
    "if ON_Kaggle:\n",
    "    PATH = \".\"\n",
    "    full_path = os.path.join(\"/kaggle/input/dataset-dlacv-project\", PATH)\n",
    "    %cd $full_path\n",
    "    !pwd\n",
    "    \n",
    "    # For saving models\n",
    "    # %mkdir -p /kaggle/working/models\n",
    "    MODEL_SAVE_PATH = f'/kaggle/working/models/{Network}'\n",
    "    # For saving logs\n",
    "    # %mkdir -p /kaggle/working/logs\n",
    "    TB_SAVE_PATH = f\"/kaggle/working/logs/{Network}\"\n",
    "else:\n",
    "    MODEL_SAVE_PATH = f'./models/{Network}'\n",
    "    TB_SAVE_PATH = f\"./logs/{Network}\"\n",
    "\n",
    "Path(MODEL_SAVE_PATH).mkdir(parents=True, exist_ok=True)\n",
    "Path(TB_SAVE_PATH).mkdir(parents=True, exist_ok=True)"
   ]
  },
  {
   "cell_type": "markdown",
   "metadata": {},
   "source": [
    "# Import relevant libraries for the project"
   ]
  },
  {
   "cell_type": "code",
   "execution_count": null,
   "metadata": {
    "execution": {
     "iopub.execute_input": "2025-01-08T07:58:24.832936Z",
     "iopub.status.busy": "2025-01-08T07:58:24.832718Z",
     "iopub.status.idle": "2025-01-08T07:58:24.838431Z",
     "shell.execute_reply": "2025-01-08T07:58:24.837653Z",
     "shell.execute_reply.started": "2025-01-08T07:58:24.832912Z"
    },
    "trusted": true
   },
   "outputs": [],
   "source": [
    "import pandas as pd\n",
    "import numpy as np\n",
    "import seaborn as sns\n",
    "import matplotlib.pyplot as plt\n",
    "plt.style.use('ggplot')\n",
    "\n",
    "import torch\n",
    "import torch.nn as nn\n",
    "import torch.nn.functional as F\n",
    "\n",
    "from torch.utils.data import DataLoader\n",
    "import torch.optim as optim\n",
    "from torch.optim.lr_scheduler import ReduceLROnPlateau\n",
    "\n",
    "from torchvision.datasets import ImageFolder\n",
    "from torchvision.transforms import v2, ToTensor, Normalize\n",
    "from torchvision.models import resnet18, ResNet18_Weights\n",
    "from torchvision.transforms import Grayscale\n",
    "\n",
    "from utils.torch_utils import train"
   ]
  },
  {
   "cell_type": "markdown",
   "metadata": {},
   "source": [
    "# Preparation"
   ]
  },
  {
   "cell_type": "code",
   "execution_count": null,
   "metadata": {
    "execution": {
     "iopub.execute_input": "2025-01-08T07:58:24.839988Z",
     "iopub.status.busy": "2025-01-08T07:58:24.839744Z",
     "iopub.status.idle": "2025-01-08T07:58:24.851188Z",
     "shell.execute_reply": "2025-01-08T07:58:24.850563Z",
     "shell.execute_reply.started": "2025-01-08T07:58:24.839958Z"
    },
    "trusted": true
   },
   "outputs": [],
   "source": [
    "BATCH_SIZE = 8\n",
    "\n",
    "NUM_WORKERS = 0  # dont change this inside of the jupyter notebook (it will crash)\n",
    "SEED = 42\n",
    "\n",
    "# Classes of images in test dataset\n",
    "CLASSES = ['ok', 'defective']\n",
    "N_CLASSES = len(CLASSES)"
   ]
  },
  {
   "cell_type": "code",
   "execution_count": null,
   "metadata": {
    "execution": {
     "iopub.execute_input": "2025-01-08T07:58:24.852151Z",
     "iopub.status.busy": "2025-01-08T07:58:24.851839Z",
     "iopub.status.idle": "2025-01-08T07:58:24.869263Z",
     "shell.execute_reply": "2025-01-08T07:58:24.868421Z",
     "shell.execute_reply.started": "2025-01-08T07:58:24.852130Z"
    },
    "trusted": true
   },
   "outputs": [],
   "source": [
    "dir_data = './data/'\n",
    "dir_data_train = dir_data + 'train/'\n",
    "dir_data_val = dir_data + 'val/'\n",
    "dir_data_test = dir_data + 'test/'"
   ]
  },
  {
   "cell_type": "code",
   "execution_count": null,
   "metadata": {
    "execution": {
     "iopub.execute_input": "2025-01-08T07:58:24.870649Z",
     "iopub.status.busy": "2025-01-08T07:58:24.870285Z",
     "iopub.status.idle": "2025-01-08T07:58:24.879951Z",
     "shell.execute_reply": "2025-01-08T07:58:24.879212Z",
     "shell.execute_reply.started": "2025-01-08T07:58:24.870621Z"
    },
    "trusted": true
   },
   "outputs": [],
   "source": [
    "# Image size for ResNet18\n",
    "img_size = (224, 224)"
   ]
  },
  {
   "cell_type": "code",
   "execution_count": null,
   "metadata": {
    "execution": {
     "iopub.execute_input": "2025-01-08T07:58:24.881083Z",
     "iopub.status.busy": "2025-01-08T07:58:24.880809Z",
     "iopub.status.idle": "2025-01-08T07:58:24.894088Z",
     "shell.execute_reply": "2025-01-08T07:58:24.893484Z",
     "shell.execute_reply.started": "2025-01-08T07:58:24.881056Z"
    },
    "trusted": true
   },
   "outputs": [],
   "source": [
    "# Set seed\n",
    "torch.manual_seed(SEED)\n",
    "np.random.seed(SEED)\n",
    "torch.cuda.manual_seed_all(SEED)"
   ]
  },
  {
   "cell_type": "code",
   "execution_count": null,
   "metadata": {
    "execution": {
     "iopub.execute_input": "2025-01-08T07:58:24.895173Z",
     "iopub.status.busy": "2025-01-08T07:58:24.894938Z",
     "iopub.status.idle": "2025-01-08T07:58:24.906320Z",
     "shell.execute_reply": "2025-01-08T07:58:24.905640Z",
     "shell.execute_reply.started": "2025-01-08T07:58:24.895154Z"
    },
    "trusted": true
   },
   "outputs": [],
   "source": [
    "# Check if GPU is available\n",
    "device = torch.device(\"cuda\" if torch.cuda.is_available() else \"cpu\")\n",
    "print(\"active device:\", device)"
   ]
  },
  {
   "cell_type": "code",
   "execution_count": null,
   "metadata": {
    "execution": {
     "iopub.execute_input": "2025-01-08T07:58:24.908619Z",
     "iopub.status.busy": "2025-01-08T07:58:24.908387Z",
     "iopub.status.idle": "2025-01-08T07:58:24.920742Z",
     "shell.execute_reply": "2025-01-08T07:58:24.920066Z",
     "shell.execute_reply.started": "2025-01-08T07:58:24.908600Z"
    },
    "trusted": true
   },
   "outputs": [],
   "source": [
    "# Define Transforms\n",
    "transform = v2.Compose([\n",
    "    ToTensor(),\n",
    "    v2.Resize(img_size, interpolation=v2.InterpolationMode.NEAREST),\n",
    "    Grayscale(num_output_channels= 1),\n",
    "    Normalize([0.5], [0.5]),\n",
    "])\n",
    "\n",
    "transform_and_augment = v2.Compose([\n",
    "    ToTensor(),\n",
    "    v2.Resize(img_size, interpolation=v2.InterpolationMode.NEAREST),\n",
    "    Grayscale(num_output_channels= 1),\n",
    "    Normalize([0.5], [0.5]),\n",
    "    v2.RandomAffine(degrees=15, translate=(0.1, 0.1), fill = 1),  # randomly shift images horizontally/ vertically (fraction of total width/ height)\n",
    "    v2.RandomHorizontalFlip(),\n",
    "    v2.RandomVerticalFlip(),\n",
    "    v2.RandomRotation(degrees=30, fill=1),\n",
    "    v2.RandomResizedCrop(size=img_size, scale=(0.8, 1.0), ratio=(0.75, 1.33)),\n",
    "    v2.RandomErasing(p=0.5, scale=(0.02, 0.25), ratio=(0.3, 3.3), value=\"random\"),\n",
    "    v2.GaussianBlur(kernel_size=(5, 5), sigma=(0.1, 2.0)),\n",
    "])\n",
    "\n",
    "def target_transform(x):\n",
    "    return F.one_hot(torch.LongTensor([x]), N_CLASSES)[0].float()"
   ]
  },
  {
   "cell_type": "code",
   "execution_count": null,
   "metadata": {
    "execution": {
     "iopub.execute_input": "2025-01-08T07:58:24.921877Z",
     "iopub.status.busy": "2025-01-08T07:58:24.921669Z",
     "iopub.status.idle": "2025-01-08T07:58:27.561191Z",
     "shell.execute_reply": "2025-01-08T07:58:27.560390Z",
     "shell.execute_reply.started": "2025-01-08T07:58:24.921859Z"
    },
    "trusted": true
   },
   "outputs": [],
   "source": [
    "# Load train data\n",
    "train_dataset = ImageFolder(root = dir_data_train, transform= transform_and_augment, target_transform= target_transform)\n",
    "train_loader = DataLoader(train_dataset, batch_size= BATCH_SIZE, shuffle= True, num_workers= NUM_WORKERS)\n",
    "\n",
    "# Load validation data\n",
    "val_dataset = ImageFolder(root = dir_data_val, transform= transform, target_transform= target_transform)\n",
    "val_loader = DataLoader(val_dataset, batch_size= BATCH_SIZE, shuffle= True, num_workers= NUM_WORKERS)\n",
    "\n",
    "# Load test data\n",
    "test_dataset = ImageFolder(root = dir_data_test, transform= transform, target_transform= target_transform)\n",
    "test_loader = DataLoader(test_dataset, batch_size= 1, shuffle= False, num_workers= NUM_WORKERS)"
   ]
  },
  {
   "cell_type": "code",
   "execution_count": null,
   "metadata": {
    "execution": {
     "iopub.execute_input": "2025-01-08T07:58:27.562402Z",
     "iopub.status.busy": "2025-01-08T07:58:27.562092Z",
     "iopub.status.idle": "2025-01-08T07:58:27.567608Z",
     "shell.execute_reply": "2025-01-08T07:58:27.566717Z",
     "shell.execute_reply.started": "2025-01-08T07:58:27.562374Z"
    },
    "trusted": true
   },
   "outputs": [],
   "source": [
    "# Define the model\n",
    "class CustomResNet(nn.Module):\n",
    "    def __init__(self, num_classes= 2, input_channels= 1):\n",
    "        super(CustomResNet, self).__init__()\n",
    "        \n",
    "        # load the pre-trained ResNet18 model\n",
    "        self.base_model = resnet18(weights= ResNet18_Weights.DEFAULT)\n",
    "        \n",
    "        # change the input channels of the model\n",
    "        self.base_model.conv1 = nn.Conv2d(\n",
    "            input_channels, 64, kernel_size=7, stride=2, padding=3, bias=False\n",
    "        )\n",
    "        \n",
    "        # # Freeze all layers except the last one\n",
    "        # for param in self.base_model.parameters():\n",
    "        #     param.requires_grad = False\n",
    "        \n",
    "        # change the output layer of the model\n",
    "        self.base_model.fc = nn.Linear(self.base_model.fc.in_features, num_classes)\n",
    "    \n",
    "    def forward(self, x):\n",
    "        return self.base_model(x)"
   ]
  },
  {
   "cell_type": "code",
   "execution_count": null,
   "metadata": {
    "execution": {
     "iopub.execute_input": "2025-01-08T07:58:27.568918Z",
     "iopub.status.busy": "2025-01-08T07:58:27.568627Z",
     "iopub.status.idle": "2025-01-08T07:58:28.104721Z",
     "shell.execute_reply": "2025-01-08T07:58:28.103968Z",
     "shell.execute_reply.started": "2025-01-08T07:58:27.568888Z"
    },
    "trusted": true
   },
   "outputs": [],
   "source": [
    "model = CustomResNet(num_classes= N_CLASSES, input_channels= 1)\n",
    "\n",
    "# # Check which parameters are trainable\n",
    "# for name, param in model.base_model.named_parameters():\n",
    "#     print(f\"{name} requires_grad={param.requires_grad}\")\n",
    "\n",
    "optimizer = optim.Adam(filter(lambda p: p.requires_grad, model.parameters()), lr=0.001)\n",
    "\n",
    "if RESUME:\n",
    "    model = torch.load(os.path.join(MODEL_SAVE_PATH, \"best_model.pth\"), weights_only= False, map_location= device)\n",
    "\n",
    "model = model.to(device)\n",
    "print(model)"
   ]
  },
  {
   "cell_type": "markdown",
   "metadata": {},
   "source": [
    "# Train"
   ]
  },
  {
   "cell_type": "code",
   "execution_count": null,
   "metadata": {
    "execution": {
     "iopub.execute_input": "2025-01-08T07:58:28.105804Z",
     "iopub.status.busy": "2025-01-08T07:58:28.105559Z",
     "iopub.status.idle": "2025-01-08T07:58:28.109744Z",
     "shell.execute_reply": "2025-01-08T07:58:28.108935Z",
     "shell.execute_reply.started": "2025-01-08T07:58:28.105784Z"
    },
    "trusted": true
   },
   "outputs": [],
   "source": [
    "criterion = nn.CrossEntropyLoss()\n",
    "scheduler = ReduceLROnPlateau(optimizer, \n",
    "                              'min', \n",
    "                              factor=0.1, \n",
    "                              patience=6, \n",
    "                              eps=5*1e-3, \n",
    "                              min_lr=5*1e-9)"
   ]
  },
  {
   "cell_type": "code",
   "execution_count": null,
   "metadata": {
    "execution": {
     "iopub.execute_input": "2025-01-08T07:58:28.110775Z",
     "iopub.status.busy": "2025-01-08T07:58:28.110503Z",
     "iopub.status.idle": "2025-01-08T08:38:11.524909Z",
     "shell.execute_reply": "2025-01-08T08:38:11.524085Z",
     "shell.execute_reply.started": "2025-01-08T07:58:28.110747Z"
    },
    "trusted": true
   },
   "outputs": [],
   "source": [
    "history = train(model= model, \n",
    "                epochs= EPOCHS, \n",
    "                optimizer= optimizer, \n",
    "                criterion= criterion, \n",
    "                train_loader= train_loader, \n",
    "                val_loader= val_loader, \n",
    "                device= device, \n",
    "                scheduler= scheduler, \n",
    "                save_best_path= os.path.join(MODEL_SAVE_PATH, \"best_model.pth\"),\n",
    "                tb_log_dir= TB_SAVE_PATH,\n",
    "                start_epoch= START_EPOCH) "
   ]
  }
 ],
 "metadata": {
  "kaggle": {
   "accelerator": "gpu",
   "dataSources": [
    {
     "datasetId": 6444857,
     "sourceId": 10401253,
     "sourceType": "datasetVersion"
    }
   ],
   "dockerImageVersionId": 30823,
   "isGpuEnabled": true,
   "isInternetEnabled": true,
   "language": "python",
   "sourceType": "notebook"
  },
  "kernelspec": {
   "display_name": "venv_dlacv_projekt",
   "language": "python",
   "name": "python3"
  },
  "language_info": {
   "codemirror_mode": {
    "name": "ipython",
    "version": 3
   },
   "file_extension": ".py",
   "mimetype": "text/x-python",
   "name": "python",
   "nbconvert_exporter": "python",
   "pygments_lexer": "ipython3",
   "version": "3.10.16"
  }
 },
 "nbformat": 4,
 "nbformat_minor": 4
}
